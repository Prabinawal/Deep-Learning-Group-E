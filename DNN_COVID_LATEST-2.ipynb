{
 "cells": [
  {
   "cell_type": "code",
   "execution_count": 1,
   "id": "7e46e05c",
   "metadata": {},
   "outputs": [
    {
     "name": "stdout",
     "output_type": "stream",
     "text": [
      "Requirement already satisfied: shap in /Users/anjalibhardwaj/anaconda3/lib/python3.11/site-packages (0.45.1)\n",
      "Requirement already satisfied: numpy in /Users/anjalibhardwaj/anaconda3/lib/python3.11/site-packages (from shap) (1.24.3)\n",
      "Requirement already satisfied: scipy in /Users/anjalibhardwaj/anaconda3/lib/python3.11/site-packages (from shap) (1.11.1)\n",
      "Requirement already satisfied: scikit-learn in /Users/anjalibhardwaj/anaconda3/lib/python3.11/site-packages (from shap) (1.3.0)\n",
      "Requirement already satisfied: pandas in /Users/anjalibhardwaj/anaconda3/lib/python3.11/site-packages (from shap) (2.0.3)\n",
      "Requirement already satisfied: tqdm>=4.27.0 in /Users/anjalibhardwaj/anaconda3/lib/python3.11/site-packages (from shap) (4.65.0)\n",
      "Requirement already satisfied: packaging>20.9 in /Users/anjalibhardwaj/anaconda3/lib/python3.11/site-packages (from shap) (23.1)\n",
      "Requirement already satisfied: slicer==0.0.8 in /Users/anjalibhardwaj/anaconda3/lib/python3.11/site-packages (from shap) (0.0.8)\n",
      "Requirement already satisfied: numba in /Users/anjalibhardwaj/anaconda3/lib/python3.11/site-packages (from shap) (0.57.1)\n",
      "Requirement already satisfied: cloudpickle in /Users/anjalibhardwaj/anaconda3/lib/python3.11/site-packages (from shap) (2.2.1)\n",
      "Requirement already satisfied: llvmlite<0.41,>=0.40.0dev0 in /Users/anjalibhardwaj/anaconda3/lib/python3.11/site-packages (from numba->shap) (0.40.0)\n",
      "Requirement already satisfied: python-dateutil>=2.8.2 in /Users/anjalibhardwaj/anaconda3/lib/python3.11/site-packages (from pandas->shap) (2.8.2)\n",
      "Requirement already satisfied: pytz>=2020.1 in /Users/anjalibhardwaj/anaconda3/lib/python3.11/site-packages (from pandas->shap) (2023.3.post1)\n",
      "Requirement already satisfied: tzdata>=2022.1 in /Users/anjalibhardwaj/anaconda3/lib/python3.11/site-packages (from pandas->shap) (2023.3)\n",
      "Requirement already satisfied: joblib>=1.1.1 in /Users/anjalibhardwaj/anaconda3/lib/python3.11/site-packages (from scikit-learn->shap) (1.2.0)\n",
      "Requirement already satisfied: threadpoolctl>=2.0.0 in /Users/anjalibhardwaj/anaconda3/lib/python3.11/site-packages (from scikit-learn->shap) (2.2.0)\n",
      "Requirement already satisfied: six>=1.5 in /Users/anjalibhardwaj/anaconda3/lib/python3.11/site-packages (from python-dateutil>=2.8.2->pandas->shap) (1.16.0)\n",
      "Note: you may need to restart the kernel to use updated packages.\n"
     ]
    }
   ],
   "source": [
    " \n",
    "pip install shap"
   ]
  },
  {
   "cell_type": "code",
   "execution_count": 2,
   "id": "46145328",
   "metadata": {},
   "outputs": [],
   "source": [
    "#IMPORTING VARIOUS PYTHON LIBRARIES AND MODULES\n",
    "import numpy as np\n",
    "import cv2\n",
    "import os\n",
    "import random\n",
    "from sklearn.model_selection import train_test_split\n",
    "from tensorflow.keras.utils import to_categorical\n",
    "from tensorflow.keras.models import Sequential\n",
    "from tensorflow.keras.preprocessing.image import ImageDataGenerator\n",
    "from tensorflow.keras.layers import Conv2D, MaxPooling2D, Flatten, Dense, Dropout\n",
    "from tensorflow.keras.optimizers import Adam\n",
    "from sklearn.utils import resample\n",
    "import matplotlib.pyplot as plt\n",
    "import shap\n",
    "from sklearn.metrics import classification_report, confusion_matrix\n",
    "import seaborn as sns"
   ]
  },
  {
   "cell_type": "code",
   "execution_count": 3,
   "id": "dd302cec",
   "metadata": {},
   "outputs": [],
   "source": [
    "#DIRECTORY WHERE DATASET IS LOCATED\n",
    "Dataset_Dir =\"/Users/anjalibhardwaj/Desktop/College/Deep Learning/assignment 2/Val\""
   ]
  },
  {
   "cell_type": "code",
   "execution_count": 4,
   "id": "2352c89a",
   "metadata": {},
   "outputs": [
    {
     "data": {
      "text/plain": [
       "['.DS_Store', 'Non-COVID', 'COVID-19', 'Normal']"
      ]
     },
     "execution_count": 4,
     "metadata": {},
     "output_type": "execute_result"
    }
   ],
   "source": [
    "#LIST THE CONTENT OF DIRECTORY\n",
    "os.listdir(\"/Users/anjalibhardwaj/Desktop/College/Deep Learning/assignment 2/Val\")"
   ]
  },
  {
   "cell_type": "code",
   "execution_count": 5,
   "id": "b17798f2",
   "metadata": {},
   "outputs": [],
   "source": [
    "# Define DIRECTORY paths\n",
    "covid_images_path = '/Users/anjalibhardwaj/Desktop/College/Deep Learning/assignment 2/Val/Covid-19/images'\n",
    "non_covid_images_path = '/Users/anjalibhardwaj/Desktop/College/Deep Learning/assignment 2/Val/Non-Covid/images'\n",
    "normal_images_path = '/Users/anjalibhardwaj/Desktop/College/Deep Learning/assignment 2/Val/Normal/images'\n"
   ]
  },
  {
   "cell_type": "code",
   "execution_count": 6,
   "id": "f25ca9ce",
   "metadata": {},
   "outputs": [],
   "source": [
    "# Load and preprocess images , convert it to greyscale resize it, \n",
    "#and perform histogram equlization, applies gaussian liur\n",
    "def load_and_preprocess_images(folder, target, size=(200, 200)):\n",
    "    images = []\n",
    "    labels = []\n",
    "    for filename in os.listdir(folder):\n",
    "        img_path = os.path.join(folder, filename)\n",
    "        if img_path.endswith('.png') or img_path.endswith('.jpg'):\n",
    "            img = cv2.imread(img_path)\n",
    "            if img is not None:\n",
    "                gray_img = cv2.cvtColor(img, cv2.COLOR_BGR2GRAY)\n",
    "                resized_img = cv2.resize(gray_img, size)\n",
    "                # Histogram equalization\n",
    "                equalized_img = cv2.equalizeHist(gray_img)\n",
    "                # Gaussian Blur\n",
    "                blurred_img = cv2.GaussianBlur(equalized_img, (5, 5), 0)\n",
    "                \n",
    "                images.append(blurred_img)\n",
    "                labels.append(target)\n",
    "    return images, labels"
   ]
  },
  {
   "cell_type": "code",
   "execution_count": 7,
   "id": "c65e757e",
   "metadata": {},
   "outputs": [],
   "source": [
    "# Load and process  images from each category\n",
    "covid_images, covid_labels = load_and_preprocess_images(covid_images_path, 'COVID-19')\n",
    "non_covid_images, non_covid_labels = load_and_preprocess_images(non_covid_images_path, 'Non-COVID')\n",
    "normal_images, normal_labels = load_and_preprocess_images(normal_images_path, 'Normal')\n"
   ]
  },
  {
   "cell_type": "code",
   "execution_count": 8,
   "id": "9b629734",
   "metadata": {},
   "outputs": [],
   "source": [
    "# Combine all prprocessed images and labels\n",
    "all_images = np.r_[covid_images, non_covid_images, normal_images]\n",
    "all_labels = np.r_[covid_labels, non_covid_labels, normal_labels]\n"
   ]
  },
  {
   "cell_type": "code",
   "execution_count": 9,
   "id": "1625e21f",
   "metadata": {},
   "outputs": [],
   "source": [
    "# Resize images\n",
    "def resize_images(images, size=(200, 200)):\n",
    "    resized_images = []\n",
    "    for img in images:\n",
    "        resized_img = cv2.resize(img, size)\n",
    "        resized_images.append(resized_img)\n",
    "    return resized_images\n"
   ]
  },
  {
   "cell_type": "code",
   "execution_count": 10,
   "id": "d304a35d",
   "metadata": {},
   "outputs": [],
   "source": [
    "#resize all image stored in all_images\n",
    "resized_images = resize_images(all_images)"
   ]
  },
  {
   "cell_type": "code",
   "execution_count": 11,
   "id": "089a123f",
   "metadata": {},
   "outputs": [],
   "source": [
    "# Convert labels to numerical format\n",
    "label_mapping = {'COVID-19': 0, 'Non-COVID': 1, 'Normal': 2}\n",
    "numeric_labels = [label_mapping[label] for label in all_labels]\n"
   ]
  },
  {
   "cell_type": "code",
   "execution_count": 12,
   "id": "144ef797",
   "metadata": {},
   "outputs": [],
   "source": [
    "# Convert to numpy array\n",
    "X = np.array(resized_images)\n",
    "y = np.array(numeric_labels)\n"
   ]
  },
  {
   "cell_type": "code",
   "execution_count": 13,
   "id": "50bd923e",
   "metadata": {},
   "outputs": [
    {
     "name": "stdout",
     "output_type": "stream",
     "text": [
      "Shape of X: (5417, 200, 200)\n",
      "Shape of y: (5417,)\n"
     ]
    }
   ],
   "source": [
    "#print shape of numpy array containing image data\n",
    "print(f\"Shape of X: {X.shape}\")\n",
    "print(f\"Shape of y: {y.shape}\")\n"
   ]
  },
  {
   "cell_type": "code",
   "execution_count": 14,
   "id": "5227511e",
   "metadata": {},
   "outputs": [],
   "source": [
    "# split the data set into train and test\n",
    "\n",
    "X_train, X_test, y_train, y_test = train_test_split(X, y, test_size=0.2, random_state=42)\n"
   ]
  },
  {
   "cell_type": "code",
   "execution_count": 15,
   "id": "6900b7b6",
   "metadata": {},
   "outputs": [],
   "source": [
    "# Perform class Balancing by randomly sampling from minority classes\n",
    "X_train_balanced = []\n",
    "y_train_balanced = []\n"
   ]
  },
  {
   "cell_type": "code",
   "execution_count": 16,
   "id": "846f4552",
   "metadata": {},
   "outputs": [],
   "source": [
    "# Define size of the majority class\n",
    "majority_class_size = 5000"
   ]
  },
  {
   "cell_type": "code",
   "execution_count": 17,
   "id": "e5647db3",
   "metadata": {},
   "outputs": [],
   "source": [
    "# Balance  COVID-19 class\n",
    "covid_indices = np.where(y == 0)[0]\n",
    "covid_sampled_indices = np.random.choice(covid_indices, size=majority_class_size, replace=True)\n",
    "X_train_balanced.extend(X[covid_sampled_indices])\n",
    "y_train_balanced.extend(y[covid_sampled_indices])"
   ]
  },
  {
   "cell_type": "code",
   "execution_count": 18,
   "id": "f3eaf06a",
   "metadata": {},
   "outputs": [],
   "source": [
    "# Balance  Non-COVID class\n",
    "non_covid_indices = np.where(y == 1)[0]\n",
    "non_covid_sampled_indices = np.random.choice(non_covid_indices, size=majority_class_size, replace=True)\n",
    "X_train_balanced.extend(X[non_covid_sampled_indices])\n",
    "y_train_balanced.extend(y[non_covid_sampled_indices])\n"
   ]
  },
  {
   "cell_type": "code",
   "execution_count": 19,
   "id": "4ed2e04c",
   "metadata": {},
   "outputs": [],
   "source": [
    "# Balance Normal class\n",
    "normal_indices = np.where(y == 2)[0]\n",
    "normal_sampled_indices = np.random.choice(normal_indices, size=majority_class_size, replace=True)\n",
    "X_train_balanced.extend(X[normal_sampled_indices])\n",
    "y_train_balanced.extend(y[normal_sampled_indices])"
   ]
  },
  {
   "cell_type": "code",
   "execution_count": 20,
   "id": "ca488eab",
   "metadata": {},
   "outputs": [],
   "source": [
    "# Converting to NumPy arrays\n",
    "X_train_balanced = np.array(X_train_balanced)\n",
    "y_train_balanced = np.array(y_train_balanced)"
   ]
  },
  {
   "cell_type": "code",
   "execution_count": 21,
   "id": "2f2e8816",
   "metadata": {},
   "outputs": [],
   "source": [
    "# Data augmentation\n",
    "datagen = ImageDataGenerator(\n",
    "    rotation_range=20,\n",
    "    width_shift_range=0.2,\n",
    "    height_shift_range=0.2,\n",
    "    shear_range=0.2,\n",
    "    zoom_range=0.2,\n",
    "    horizontal_flip=True,\n",
    "    fill_mode='nearest'\n",
    " )"
   ]
  },
  {
   "cell_type": "code",
   "execution_count": 22,
   "id": "53eb092a",
   "metadata": {},
   "outputs": [],
   "source": [
    "# Fitting datagen on the balanced dataset with additional dimension added using np.newaxis\n",
    "datagen.fit(X_train_balanced[..., np.newaxis])"
   ]
  },
  {
   "cell_type": "code",
   "execution_count": 40,
   "id": "beae735d",
   "metadata": {},
   "outputs": [],
   "source": [
    "# Define the DNN model architecture, batch normalization are added after each dence layer to stabalize and accelerate the training process\n",
    "from tensorflow.keras.layers import Dense, Dropout, Flatten, BatchNormalization\n",
    "model = Sequential([\n",
    "    Flatten(input_shape=(200, 200, 1)),           # Flatten layer converts 2D input to 1D\n",
    "    Dense(256, activation='relu'),                # fully connected layer with 256 units and ReLU activation\n",
    "    BatchNormalization(),                         # Batch normalization layer\n",
    "    Dropout(0.5),                                  # Dropout layer with dropout rate of 0.5\n",
    "    Dense(128, activation='relu'),                # Another fully connected layer with 128 units and ReLU activation\n",
    "    BatchNormalization(),                         # batch normalization layer\n",
    "    Dropout(0.3),                                  # Dropout layer with dropout rate of 0.3\n",
    "    Dense(64, activation='relu'),                 # Another fully connected layer with 64 units and ReLU activation\n",
    "    BatchNormalization(),                         # Batch normalization layer\n",
    "    Dense(3, activation='softmax')                 # Output layer with 3 units for classification and softmax activation\n",
    "])"
   ]
  },
  {
   "cell_type": "code",
   "execution_count": 41,
   "id": "9a93ed73",
   "metadata": {},
   "outputs": [],
   "source": [
    "# Compiling the model\n",
    "model.compile(optimizer='adam', loss='sparse_categorical_crossentropy', metrics=['accuracy'])\n"
   ]
  },
  {
   "cell_type": "code",
   "execution_count": 42,
   "id": "b78fcc94",
   "metadata": {},
   "outputs": [
    {
     "name": "stdout",
     "output_type": "stream",
     "text": [
      "Epoch 1/10\n",
      "468/468 [==============================] - 22s 46ms/step - loss: 1.0893 - accuracy: 0.4522 - val_loss: 0.9374 - val_accuracy: 0.5120\n",
      "Epoch 2/10\n",
      "468/468 [==============================] - 22s 46ms/step - loss: 1.0006 - accuracy: 0.5007 - val_loss: 0.8777 - val_accuracy: 0.6162\n",
      "Epoch 3/10\n",
      "468/468 [==============================] - 22s 47ms/step - loss: 0.9834 - accuracy: 0.5091 - val_loss: 0.8997 - val_accuracy: 0.5923\n",
      "Epoch 4/10\n",
      "468/468 [==============================] - 21s 46ms/step - loss: 0.9710 - accuracy: 0.5251 - val_loss: 0.8686 - val_accuracy: 0.5886\n",
      "Epoch 5/10\n",
      "468/468 [==============================] - 22s 46ms/step - loss: 0.9609 - accuracy: 0.5283 - val_loss: 0.8867 - val_accuracy: 0.5803\n",
      "Epoch 6/10\n",
      "468/468 [==============================] - 22s 47ms/step - loss: 0.9588 - accuracy: 0.5281 - val_loss: 0.8769 - val_accuracy: 0.5784\n",
      "Epoch 7/10\n",
      "468/468 [==============================] - 23s 48ms/step - loss: 0.9635 - accuracy: 0.5225 - val_loss: 1.0502 - val_accuracy: 0.4225\n",
      "Epoch 8/10\n",
      "468/468 [==============================] - 22s 48ms/step - loss: 0.9520 - accuracy: 0.5350 - val_loss: 0.8754 - val_accuracy: 0.6079\n",
      "Epoch 9/10\n",
      "468/468 [==============================] - 22s 46ms/step - loss: 0.9498 - accuracy: 0.5338 - val_loss: 0.8512 - val_accuracy: 0.6190\n",
      "Epoch 10/10\n",
      "468/468 [==============================] - 21s 46ms/step - loss: 0.9507 - accuracy: 0.5348 - val_loss: 0.8475 - val_accuracy: 0.6144\n"
     ]
    }
   ],
   "source": [
    "# Train the model. training is performed for 10 epoches\n",
    "history = model.fit(datagen.flow(X_train_balanced[..., np.newaxis], y_train_balanced, batch_size=32),\n",
    "                    validation_data=(X_test[..., np.newaxis], y_test),\n",
    "                    epochs=10,\n",
    "                    steps_per_epoch=len(X_train_balanced) // 32)\n"
   ]
  },
  {
   "cell_type": "code",
   "execution_count": 43,
   "id": "b29e5a10",
   "metadata": {},
   "outputs": [
    {
     "name": "stdout",
     "output_type": "stream",
     "text": [
      "34/34 - 0s - loss: 0.8475 - accuracy: 0.6144 - 140ms/epoch - 4ms/step\n",
      "\n",
      "Test accuracy: 0.6143911480903625\n"
     ]
    }
   ],
   "source": [
    "# Evaluate the train  model on testing data\n",
    "test_loss, test_acc = model.evaluate(X_test[..., np.newaxis], y_test, verbose=2)\n",
    "print(\"\\nTest accuracy:\", test_acc)"
   ]
  },
  {
   "cell_type": "code",
   "execution_count": 44,
   "id": "9355adb8",
   "metadata": {},
   "outputs": [
    {
     "name": "stdout",
     "output_type": "stream",
     "text": [
      "34/34 [==============================] - 0s 5ms/step\n"
     ]
    }
   ],
   "source": [
    "# Generate predictions for testing data\n",
    "y_pred = model.predict(X_test[..., np.newaxis])\n",
    "y_pred_classes = np.argmax(y_pred, axis=1)\n"
   ]
  },
  {
   "cell_type": "code",
   "execution_count": 45,
   "id": "135b099a",
   "metadata": {},
   "outputs": [],
   "source": [
    "# Compute confusion matrix\n",
    "cm = confusion_matrix(y_test, y_pred_classes)"
   ]
  },
  {
   "cell_type": "code",
   "execution_count": 46,
   "id": "000b7876",
   "metadata": {},
   "outputs": [
    {
     "data": {
      "image/png": "[encoded data removed]",
      "text/plain": [
       "<Figure size 800x600 with 2 Axes>"
      ]
     },
     "metadata": {},
     "output_type": "display_data"
    }
   ],
   "source": [
    "# plot confusion matrix\n",
    "plt.figure(figsize=(8, 6))\n",
    "sns.heatmap(cm, annot=True, cmap='Blues', fmt='g', xticklabels=['COVID-19', 'Non-COVID', 'Normal'], yticklabels=['COVID-19', 'Non-COVID', 'Normal'])\n",
    "plt.xlabel('Predicted labels')\n",
    "plt.ylabel('True labels')\n",
    "plt.title('Confusion Matrix')\n",
    "plt.show()\n"
   ]
  },
  {
   "cell_type": "code",
   "execution_count": 47,
   "id": "adfc176b",
   "metadata": {},
   "outputs": [],
   "source": [
    "# compute AUC for each class\n",
    "from sklearn.metrics import roc_auc_score, roc_curve\n",
    "auc_scores = []\n",
    "for i in range(3):\n",
    "    auc_scores.append(roc_auc_score((y_test == i).astype(int), y_pred[:, i]))\n"
   ]
  },
  {
   "cell_type": "code",
   "execution_count": 48,
   "id": "2b543c66",
   "metadata": {},
   "outputs": [
    {
     "name": "stdout",
     "output_type": "stream",
     "text": [
      "AUC for class 0: 0.8031155092491681\n",
      "AUC for class 1: 0.8396365660085172\n",
      "AUC for class 2: 0.8137368625924484\n"
     ]
    }
   ],
   "source": [
    "# printing AUC scores\n",
    "for i, score in enumerate(auc_scores):\n",
    "    print(f'AUC for class {i}: {score}')"
   ]
  },
  {
   "cell_type": "code",
   "execution_count": 49,
   "id": "dd9ab62a",
   "metadata": {},
   "outputs": [],
   "source": [
    "from sklearn.metrics import roc_curve, auc\n",
    "# compute ROC curve and AUC for each class\n",
    "fpr = dict()\n",
    "tpr = dict()\n",
    "roc_auc = dict()\n",
    "for i in range(3):\n",
    "    fpr[i], tpr[i], _ = roc_curve((y_test == i).astype(int), y_pred[:, i])\n",
    "    roc_auc[i] = auc(fpr[i], tpr[i])\n"
   ]
  },
  {
   "cell_type": "code",
   "execution_count": 50,
   "id": "ba6b9171",
   "metadata": {},
   "outputs": [
    {
     "data": {
      "image/png": "[encoded data removed]",
      "text/plain": [
       "<Figure size 800x600 with 1 Axes>"
      ]
     },
     "metadata": {},
     "output_type": "display_data"
    }
   ],
   "source": [
    "# Plot ROC curve for each class\n",
    "plt.figure(figsize=(8, 6))\n",
    "for i in range(3):\n",
    "    plt.plot(fpr[i], tpr[i], label=f'Class {i} (AUC = {roc_auc[i]:.2f})')\n",
    "\n",
    "plt.plot([0, 1], [0, 1], 'k--')\n",
    "plt.xlim([0.0, 1.0])\n",
    "plt.ylim([0.0, 1.05])\n",
    "plt.xlabel('False Positive Rate')\n",
    "plt.ylabel('True Positive Rate')\n",
    "plt.title('ROC Curve')\n",
    "plt.legend(loc=\"lower right\")\n",
    "plt.show()"
   ]
  },
  {
   "cell_type": "code",
   "execution_count": 34,
   "id": "b5ac8c49",
   "metadata": {},
   "outputs": [],
   "source": [
    "# select  few samples to explain\n",
    "sample_indices = [0, 1, 2]  \n",
    "X_samples = X_test[sample_indices]\n",
    "y_samples = y_test[sample_indices]"
   ]
  },
  {
   "cell_type": "code",
   "execution_count": 35,
   "id": "098b718c",
   "metadata": {},
   "outputs": [],
   "source": [
    "# SHAP explanations\n",
    "# Using a subset of training data for background\n",
    "background = np.tile(X_train_balanced[..., np.newaxis], (len(X_samples), 1, 1, 1))  # Reshape background to match the shape of X_samples\n",
    "  "
   ]
  },
  {
   "cell_type": "code",
   "execution_count": 36,
   "id": "26faeb48",
   "metadata": {},
   "outputs": [
    {
     "name": "stderr",
     "output_type": "stream",
     "text": [
      "/Users/anjalibhardwaj/anaconda3/lib/python3.11/site-packages/shap/explainers/_deep/deep_tf.py:99: UserWarning: Your TensorFlow version is newer than 2.4.0 and so graph support has been removed in eager mode and some static graphs may not be supported. See PR #1483 for discussion.\n",
      "  warnings.warn(\"Your TensorFlow version is newer than 2.4.0 and so graph support has been removed in eager mode and some static graphs may not be supported. See PR #1483 for discussion.\")\n",
      "/Users/anjalibhardwaj/anaconda3/lib/python3.11/site-packages/shap/explainers/_deep/deep_tf.py:155: UserWarning: You have provided over 5k background samples! For better performance consider using smaller random sample.\n",
      "  warnings.warn(\"You have provided over 5k background samples! For better performance consider using smaller random sample.\")\n"
     ]
    }
   ],
   "source": [
    "# Create SHAP \n",
    "explainer = shap.DeepExplainer(model, background)\n"
   ]
  },
  {
   "cell_type": "code",
   "execution_count": 38,
   "id": "0d8c6dc3",
   "metadata": {},
   "outputs": [],
   "source": [
    "# Compute SHAP values for the samples\n",
    "#shap_values = explainer.shap_values(X_samples)"
   ]
  },
  {
   "cell_type": "code",
   "execution_count": null,
   "id": "fab3c609",
   "metadata": {},
   "outputs": [],
   "source": [
    "# Plot SHAP values for each class\n",
    "for i in range(len(shap_values)):\n",
    "    shap.image_plot(shap_values[i], X_samples)"
   ]
  },
  {
   "cell_type": "code",
   "execution_count": null,
   "id": "ea5949c4",
   "metadata": {},
   "outputs": [],
   "source": []
  }
 ],
 "metadata": {
  "kernelspec": {
   "display_name": "Python 3 (ipykernel)",
   "language": "python",
   "name": "python3"
  },
  "language_info": {
   "codemirror_mode": {
    "name": "ipython",
    "version": 3
   },
   "file_extension": ".py",
   "mimetype": "text/x-python",
   "name": "python",
   "nbconvert_exporter": "python",
   "pygments_lexer": "ipython3",
   "version": "3.11.5"
  }
 },
 "nbformat": 4,
 "nbformat_minor": 5
}
